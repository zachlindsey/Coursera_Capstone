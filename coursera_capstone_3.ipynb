{
 "cells": [
  {
   "cell_type": "markdown",
   "metadata": {},
   "source": [
    "# Automatic Itineraries!\n",
    "\n",
    "Overwhelmed with choices of where to go and what to do in a city? No more! Simply choose a city you'd like to visit and have an idea of what you'd like to do, and this notebook will take care of the rest."
   ]
  },
  {
   "cell_type": "markdown",
   "metadata": {},
   "source": [
    "## Introduction\n",
    "\n",
    "The goal of this notebook is to use some user-specified information to find a chain of venues in a city that:\n",
    "\n",
    "1. Are all accessible by a short walk\n",
    "2. Feature selections from categories selected by the user\n",
    "3. Are open at the appropriate times!\n",
    "4. Fall into a price range specified by a user.\n",
    "\n",
    "\n",
    "To do this, the user will specify:\n",
    "\n",
    "1. a city to search\n",
    "2. a maximum distance between two destinations\n",
    "3. some information about the venues to visit and the order to visit them in, which consists of\n",
    "    1. a choice of one of: food, drinks, coffee, shops, arts, outdoors, sights, trending\n",
    "    2. a price range from 1-4 (optional)\n",
    "    3. the amount of time to spend at the venue (optional)\n",
    "\n",
    "Then, the notebook will put together various selections of venues that satisfy the desired constraints. If not are found, something close enough may be presented instead."
   ]
  },
  {
   "cell_type": "markdown",
   "metadata": {},
   "source": [
    "## Data\n",
    "\n",
    "The Foursquare API provides all data needed for this project. For each user-specified category and price range, a (standard!) call to the venues-explore endpoint gives some data to get started: the location and name of the venue. We can then (ignoring hours for now) string together some lists of venues that are sufficiently close and of the order and type specified by the user. Once valid combinations of venues are found, we can verify the hours using the premium calls to the venues-hours endpoint and return the suggested iteneraries."
   ]
  },
  {
   "cell_type": "code",
   "execution_count": null,
   "metadata": {},
   "outputs": [],
   "source": []
  }
 ],
 "metadata": {
  "kernelspec": {
   "display_name": "Python 3",
   "language": "python",
   "name": "python3"
  },
  "language_info": {
   "codemirror_mode": {
    "name": "ipython",
    "version": 3
   },
   "file_extension": ".py",
   "mimetype": "text/x-python",
   "name": "python",
   "nbconvert_exporter": "python",
   "pygments_lexer": "ipython3",
   "version": "3.7.3"
  }
 },
 "nbformat": 4,
 "nbformat_minor": 2
}
